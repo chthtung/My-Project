{
 "cells": [
  {
   "cell_type": "code",
   "execution_count": 1,
   "metadata": {},
   "outputs": [],
   "source": [
    "import requests\n",
    "from bs4 import BeautifulSoup\n",
    "import pandas as pd\n",
    "import numpy as np\n",
    "import time"
   ]
  },
  {
   "cell_type": "code",
   "execution_count": 31,
   "metadata": {},
   "outputs": [],
   "source": [
    "headers= {'User=Agent': 'Mozilla/5.0 (Windows NT 10.0; Win64; x64) AppleWebKit/537.36 (KHTML, like Gecko) Chrome/111.0.0.0 Safari/537.36'}\n",
    "\n",
    "links = []"
   ]
  },
  {
   "cell_type": "code",
   "execution_count": null,
   "metadata": {},
   "outputs": [],
   "source": [
    "delay = 6\n",
    "\n",
    "for page in range(1:201):\n",
    "    url = f'https://www.topcv.vn/tim-viec-lam-moi-nhat?page={page}'\n",
    "    response = requests.get(url, headers)\n",
    "    if response.status_code == 200:\n",
    "        soup = BeautifulSoup(response.content, 'html.parser')\n",
    "        h3_tag = soup.find_all('h3', class_ ='title')\n",
    "        for item in h3_tag:\n",
    "            a_tag = item.select('a')\n",
    "            link = [a['href'] for a in a_tag]\n",
    "            links.append({'id': link})\n",
    "    else:\n",
    "        print(f\"Error getting page {page}: {response.status_code}\")\n",
    "    print(f\"Finish {page}\")\n",
    "    time.sleep(delay)"
   ]
  },
  {
   "cell_type": "code",
   "execution_count": 108,
   "metadata": {},
   "outputs": [],
   "source": [
    "df = pd.DataFrame.from_dict(links)\n",
    "\n",
    "df.to_csv('C:\\\\Users\\\\Admin\\\\Desktop\\\\Crawling Project\\\\TopCV\\\\links.csv', index = True)"
   ]
  },
  {
   "cell_type": "code",
   "execution_count": 115,
   "metadata": {},
   "outputs": [],
   "source": [
    "def rm_brand(link):\n",
    "  if \"brand\" in str(link):\n",
    "    link1 = np.nan\n",
    "  else:\n",
    "    link1 =link\n",
    "  return link1\n",
    "#Xóa bỏ các bản ghi URL có chứa chuỗi brand\n",
    "df['id'] = df['id'].apply(lambda link: rm_brand(link))\n",
    "#Xóa bỏ các bản ghi trùng lặp\n",
    "df.drop_duplicates(subset=['id'], inplace = True)\n",
    "#Loại bỏ các bản ghi có chứa np.nan\n",
    "df.dropna(inplace = True)"
   ]
  },
  {
   "cell_type": "code",
   "execution_count": 118,
   "metadata": {},
   "outputs": [
    {
     "data": {
      "text/plain": [
       "(10073, 1)"
      ]
     },
     "execution_count": 118,
     "metadata": {},
     "output_type": "execute_result"
    }
   ],
   "source": [
    "df.shape"
   ]
  },
  {
   "cell_type": "code",
   "execution_count": 2,
   "metadata": {},
   "outputs": [],
   "source": [
    "convert_df = pd.read_csv('C:\\\\Users\\\\Admin\\\\Desktop\\\\TopCV\\\\.csv\\\\links.csv', index_col=0)"
   ]
  },
  {
   "cell_type": "code",
   "execution_count": 14,
   "metadata": {},
   "outputs": [],
   "source": [
    "pd.set_option('display.max_colwidth', None)"
   ]
  },
  {
   "cell_type": "code",
   "execution_count": 6,
   "metadata": {},
   "outputs": [],
   "source": [
    "convert_df['id'] = convert_df['id'].astype(\"string\")"
   ]
  },
  {
   "cell_type": "code",
   "execution_count": 11,
   "metadata": {},
   "outputs": [
    {
     "name": "stdout",
     "output_type": "stream",
     "text": [
      "<class 'pandas.core.series.Series'>\n",
      "Index: 10868 entries, 0 to 10867\n",
      "Series name: id\n",
      "Non-Null Count  Dtype \n",
      "--------------  ----- \n",
      "10868 non-null  string\n",
      "dtypes: string(1)\n",
      "memory usage: 169.8 KB\n"
     ]
    }
   ],
   "source": [
    "convert_df['id'].info()"
   ]
  },
  {
   "cell_type": "code",
   "execution_count": 23,
   "metadata": {},
   "outputs": [],
   "source": [
    "convert_df['id'] = convert_df['id'].str[2:-2]"
   ]
  },
  {
   "cell_type": "code",
   "execution_count": 4,
   "metadata": {},
   "outputs": [],
   "source": [
    "convert_df.to_csv('C:\\\\Users\\\\Admin\\\\Desktop\\\\TopCV\\\\.csv\\\\links.csv', index=False)"
   ]
  }
 ],
 "metadata": {
  "kernelspec": {
   "display_name": "base",
   "language": "python",
   "name": "python3"
  },
  "language_info": {
   "codemirror_mode": {
    "name": "ipython",
    "version": 3
   },
   "file_extension": ".py",
   "mimetype": "text/x-python",
   "name": "python",
   "nbconvert_exporter": "python",
   "pygments_lexer": "ipython3",
   "version": "3.11.7"
  }
 },
 "nbformat": 4,
 "nbformat_minor": 2
}
