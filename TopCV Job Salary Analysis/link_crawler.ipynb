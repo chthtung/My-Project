{
  "cells": [
    {
      "cell_type": "code",
      "execution_count": 1,
      "metadata": {
        "id": "dP4Jz4L9gw4P"
      },
      "outputs": [],
      "source": [
        "import requests\n",
        "from bs4 import BeautifulSoup"
      ]
    },
    {
      "cell_type": "code",
      "execution_count": 2,
      "metadata": {
        "id": "iqkqH_DQgw4P"
      },
      "outputs": [],
      "source": [
        "headers= {'User=Agent': 'Mozilla/5.0 (Windows NT 10.0; Win64; x64) AppleWebKit/537.36 (KHTML, like Gecko) Chrome/111.0.0.0 Safari/537.36'}"
      ]
    },
    {
      "cell_type": "code",
      "execution_count": 3,
      "metadata": {
        "id": "KG39VHrIgw4P"
      },
      "outputs": [],
      "source": [
        "links = []\n",
        "max_page = 405\n",
        "for page in range(1, max_page + 1):\n",
        "    url = f'https://www.topcv.vn/tim-viec-lam-moi-nhat?page={page}'\n",
        "    response = requests.get(url, headers)\n",
        "    if response.status_code == 200:\n",
        "      soup = BeautifulSoup(response.content, 'html.parser')\n",
        "      h3_tag = soup.find_all('h3', class_ ='title')\n",
        "      for item in h3_tag:\n",
        "        a_tag = item.select('a')\n",
        "        link = [a['href'] for a in a_tag]\n",
        "        links.append({'id': link})"
      ]
    },
    {
      "cell_type": "code",
      "execution_count": null,
      "metadata": {
        "id": "9a6XeM30gw4R"
      },
      "outputs": [],
      "source": [
        "import pandas as pd\n",
        "import numpy as np"
      ]
    },
    {
      "cell_type": "code",
      "execution_count": null,
      "metadata": {
        "id": "sHJ67P_tgw4R"
      },
      "outputs": [],
      "source": [
        "df = pd.DataFrame(links)"
      ]
    },
    {
      "cell_type": "code",
      "execution_count": null,
      "metadata": {
        "id": "purzdyDugw4R"
      },
      "outputs": [],
      "source": [
        "def rm_brand(link):\n",
        "  if \"brand\" in str(link):\n",
        "    link1 = np.nan\n",
        "  else:\n",
        "    link1 =link\n",
        "  return link1\n",
        "df['id'] = df['id'].apply(lambda link: rm_brand(link))\n",
        "df.drop_duplicates(subset=['id'], inplace = True)\n",
        "df.dropna(inplace = True)"
      ]
    },
    {
      "cell_type": "code",
      "execution_count": null,
      "metadata": {
        "id": "ZDojuvLRFNq5"
      },
      "outputs": [],
      "source": [
        "df_old=pd.read_csv('/content/drive/MyDrive/OLAP + Mining/dataset/link/link_all_1.csv')\n",
        "df_old1=df_old.copy()\n",
        "df_old2=pd.read_csv('/content/drive/MyDrive/OLAP + Mining/dataset/link/link_all_2.csv')\n",
        "df_old3=df_old2.copy()"
      ]
    },
    {
      "cell_type": "code",
      "execution_count": null,
      "metadata": {
        "colab": {
          "base_uri": "https://localhost:8080/"
        },
        "id": "TTJBz6opGkT8",
        "outputId": "8545e98a-0512-4dc3-cf17-52f120583f32"
      },
      "outputs": [
        {
          "data": {
            "text/plain": [
              "(48067,)"
            ]
          },
          "execution_count": 9,
          "metadata": {},
          "output_type": "execute_result"
        }
      ],
      "source": [
        "df_new=pd.concat([df['id'],df_old['id'],df_old1['id'],df_old2['id'],df_old3['id']],axis=0)\n",
        "df_new.shape"
      ]
    },
    {
      "cell_type": "code",
      "execution_count": null,
      "metadata": {
        "colab": {
          "base_uri": "https://localhost:8080/"
        },
        "id": "K9cKEe1jIygT",
        "outputId": "4b1f7056-b51c-4dcc-efca-d08e5fc3cb1a"
      },
      "outputs": [
        {
          "data": {
            "text/plain": [
              "(9657,)"
            ]
          },
          "execution_count": 10,
          "metadata": {},
          "output_type": "execute_result"
        }
      ],
      "source": [
        "df_new.drop_duplicates(keep=False,inplace=True)\n",
        "df_new.shape"
      ]
    },
    {
      "cell_type": "code",
      "execution_count": null,
      "metadata": {
        "id": "HL7c63D8JJJg"
      },
      "outputs": [],
      "source": [
        "df_new.dropna(inplace=True)\n",
        "df_new.reset_index(drop=True, inplace=True)\n",
        "df_new.to_csv('link.csv',index=False)\n",
        "!cp link.csv \"/content/drive/MyDrive/OLAP + Mining/dataset/link\""
      ]
    }
  ],
  "metadata": {
    "colab": {
      "provenance": []
    },
    "kernelspec": {
      "display_name": "Python 3",
      "name": "python3"
    },
    "language_info": {
      "codemirror_mode": {
        "name": "ipython",
        "version": 3
      },
      "file_extension": ".py",
      "mimetype": "text/x-python",
      "name": "python",
      "nbconvert_exporter": "python",
      "pygments_lexer": "ipython3",
      "version": "3.11.7"
    }
  },
  "nbformat": 4,
  "nbformat_minor": 0
}
